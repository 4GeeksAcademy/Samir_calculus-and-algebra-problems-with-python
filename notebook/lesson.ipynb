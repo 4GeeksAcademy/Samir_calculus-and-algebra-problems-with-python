{
 "cells": [
  {
   "cell_type": "markdown",
   "metadata": {},
   "source": [
    "## Calculus and Linear Algebra"
   ]
  },
  {
   "cell_type": "markdown",
   "metadata": {},
   "source": [
    "### Quick Review\n",
    "\n",
    "What is a vector?\n",
    "\n",
    "a 1D array\n",
    "\n",
    "example:\n",
    "\n",
    "    {1, 2, 3, 4}\n",
    "\n",
    "\n",
    "\n",
    "What is a matrix?\n",
    "\n",
    "a 2D array\n",
    "\n",
    "example:\n",
    "\n",
    "    { 1, 2, 3 }\n",
    "    { 4, 5, 6 }\n",
    "    { 7, 8, 9 }"
   ]
  },
  {
   "cell_type": "markdown",
   "metadata": {},
   "source": [
    "### Scalar Operations of Matrixes\n",
    "\n",
    "Addition of 2 Matrices: <br><br>\n",
    "<img src=\"../images/matrix-addition.png\" alt=\"Alt Text\" width=\"500\"/>\n",
    "\n",
    "\n",
    "Multiplication of 2 Matrices\n",
    "* The number of columns in the first matrix must equal the number of rows in the second matrix <br><br>\n",
    "<img src=\"../images/matrix-multiplication.jpg\" alt=\"Alt Text\" width=\"500\"/>\n",
    "\n",
    "Answer:\n",
    "\n",
    "    { 58, 64 }\n",
    "    {139, 154}\n"
   ]
  },
  {
   "cell_type": "code",
   "execution_count": 7,
   "metadata": {},
   "outputs": [
    {
     "name": "stdout",
     "output_type": "stream",
     "text": [
      "The Sum of array1 and array2 is: [[10 10 10]\n",
      " [10 10 10]\n",
      " [10 10 10]]\n"
     ]
    }
   ],
   "source": [
    "# Add Arrays\n",
    "\n",
    "import numpy as np\n",
    "\n",
    "array1 = [[1, 2, 3],[4, 5, 6],[7, 8, 9]]\n",
    "array2 = [[9, 8, 7],[6, 5, 4],[3, 2, 1]]\n",
    "\n",
    "array3 = np.add(array1, array2)\n",
    "\n",
    "print(f\"The Sum of array1 and array2 is: {array3}\")"
   ]
  },
  {
   "cell_type": "code",
   "execution_count": 11,
   "metadata": {},
   "outputs": [
    {
     "name": "stdout",
     "output_type": "stream",
     "text": [
      "The Product of array1 and array2 is: [[ 58  64]\n",
      " [139 154]]\n"
     ]
    }
   ],
   "source": [
    "# Multiply Arrays\n",
    "\n",
    "import numpy as np\n",
    "\n",
    "array1 = [[1, 2, 3], [4, 5, 6]]\n",
    "array2 = [[7, 8], [9, 10], [11, 12]]\n",
    "\n",
    "array3 = np.dot(array1, array2)\n",
    "\n",
    "# np.dot is widely used in various linear algebra operations and numerical computations within NumPy.\n",
    "# np.multiply: Element-wise multiplication\n",
    "\n",
    "print(f\"The Product of array1 and array2 is: {array3}\")"
   ]
  },
  {
   "cell_type": "markdown",
   "metadata": {},
   "source": [
    "### Popular Real Life Business Use Cases of Linear Algebra\n",
    "\n",
    "**Recommendation Systems:**\n",
    "\n",
    "Industry: Retail, E-commerce, Streaming Services\n",
    "Problem: Recommending relevant products, movies, music, etc. to users.\n",
    "Solution: Linear algebra plays a key role in recommendation systems through techniques like matrix factorization. Imagine a user-item interaction matrix, where rows represent users and columns represent items (products, movies, etc.). This matrix stores information like purchases, ratings, or views. Matrix factorization decomposes this large matrix into smaller matrices that capture hidden patterns. These patterns reveal user preferences and item relationships, allowing the system to recommend items a user might like based on their past interactions and similar users' preferences.\n",
    "\n",
    "**Image and Video Analysis:**\n",
    "\n",
    "Industry: Security, Social Media, Entertainment, Healthcare\n",
    "Problem: Analyzing and extracting information from images and videos for various purposes.\n",
    "Solution: Linear algebra underpins techniques like Principal Component Analysis (PCA) and Eigenvectors. PCA helps compress images by identifying the most significant features that contribute to their visual representation. Eigenvectors, on the other hand, can be used for tasks like facial recognition. By representing faces as vectors in a high-dimensional space, algorithms can compare unknown faces to a database of known faces (represented by eigenvectors) and identify individuals.\n",
    "\n",
    "**Fraud Detection:**\n",
    "\n",
    "Industry: Finance, Banking, Insurance\n",
    "Problem: Identifying fraudulent transactions or activities.\n",
    "Solution: Linear algebra empowers techniques like anomaly detection. Anomaly detection algorithms analyze historical transaction data and learn patterns of \"normal\" behavior. Linear regression models can then be built to identify transactions that deviate significantly from these patterns, potentially indicating fraudulent activity. Additionally, clustering techniques based on linear algebra can be used to group similar transactions and pinpoint anomalies that might not be easily detectable individually."
   ]
  }
 ],
 "metadata": {
  "kernelspec": {
   "display_name": "Python 3",
   "language": "python",
   "name": "python3"
  },
  "language_info": {
   "codemirror_mode": {
    "name": "ipython",
    "version": 3
   },
   "file_extension": ".py",
   "mimetype": "text/x-python",
   "name": "python",
   "nbconvert_exporter": "python",
   "pygments_lexer": "ipython3",
   "version": "3.11.4"
  }
 },
 "nbformat": 4,
 "nbformat_minor": 2
}
